{
 "cells": [
  {
   "cell_type": "markdown",
   "metadata": {
    "slideshow": {
     "slide_type": "slide"
    }
   },
   "source": [
    "## <center>Replicating user-behaviour for objective precision tasks in continuous sliders</center>\n",
    "\n",
    "<br/><br/><br/>\n",
    "\n",
    "\n",
    "\n",
    "\n",
    "<center>Anant Mittal</center>\n",
    "<center>Matthew Kay</center>"
   ]
  },
  {
   "cell_type": "markdown",
   "metadata": {
    "slideshow": {
     "slide_type": "slide"
    }
   },
   "source": [
    "<center>(Justin Matejka, Michael Glueck, Tovi Grossman, and George Fitzmaurice)</center>\n",
    "![84](cs1.png)"
   ]
  },
  {
   "cell_type": "markdown",
   "metadata": {
    "slideshow": {
     "slide_type": "subslide"
    }
   },
   "source": [
    "<center>(Justin Matejka, Michael Glueck, Tovi Grossman, and George Fitzmaurice)</center>\n",
    "![84](cs2.png)"
   ]
  },
  {
   "cell_type": "markdown",
   "metadata": {
    "slideshow": {
     "slide_type": "slide"
    }
   },
   "source": [
    "<center>(Justin Matejka, Michael Glueck, Tovi Grossman, and George Fitzmaurice)</center>\n",
    "![84](cs3.png)"
   ]
  },
  {
   "cell_type": "markdown",
   "metadata": {
    "slideshow": {
     "slide_type": "slide"
    }
   },
   "source": [
    "## <center>Dataset Structure</center>\n",
    "\n",
    "- `rating` - Value entered on the VAS, between 0 and 100.\n",
    "- `expected_rating` - The \"correct\" response for this trial, between 0 and 100.\n",
    "- `reset_side` - Which side the start button appeared on before this trial (left or right)\n",
    "- `study_rev` - the long name for the study condition of this trial.\n",
    "- `label` - a short description for the condition of this trial.\n",
    "- `slider_file` - the graphic used for the slider in this trial.\n",
    "- `thumb_file` - the graphic used for the slider thumb in this trial.\n",
    "- `user_number` - unique identifier for each participant.\n",
    "- `time_taken` - length of time to complete the trial, in ms.\n",
    "- `trail_num` - trail number for this study session, for this participant."
   ]
  },
  {
   "cell_type": "markdown",
   "metadata": {
    "slideshow": {
     "slide_type": "slide"
    }
   },
   "source": [
    "## <center>Questions/Suggestions/Cookies?</center>"
   ]
  }
 ],
 "metadata": {
  "celltoolbar": "Slideshow",
  "kernelspec": {
   "display_name": "Python 3",
   "language": "python",
   "name": "python3"
  },
  "language_info": {
   "codemirror_mode": {
    "name": "ipython",
    "version": 3
   },
   "file_extension": ".py",
   "mimetype": "text/x-python",
   "name": "python",
   "nbconvert_exporter": "python",
   "pygments_lexer": "ipython3",
   "version": "3.6.4"
  }
 },
 "nbformat": 4,
 "nbformat_minor": 2
}
