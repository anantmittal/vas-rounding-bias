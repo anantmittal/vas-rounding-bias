{
 "cells": [
  {
   "cell_type": "markdown",
   "metadata": {
    "slideshow": {
     "slide_type": "slide"
    }
   },
   "source": [
    "## <center>Replicating user-behaviour for objective precision tasks in continuous sliders</center>\n",
    "<br/>\n",
    "<br/>\n",
    "<br/>\n",
    "<center>Anant Mittal</center>"
   ]
  },
  {
   "cell_type": "markdown",
   "metadata": {
    "slideshow": {
     "slide_type": "slide"
    }
   },
   "source": [
    "<center>(Justin Matejka, Michael Glueck, Tovi Grossman, and George Fitzmaurice)</center>\n",
    "![84](cs1.png)"
   ]
  },
  {
   "cell_type": "markdown",
   "metadata": {
    "slideshow": {
     "slide_type": "subslide"
    }
   },
   "source": [
    "<center>(Justin Matejka, Michael Glueck, Tovi Grossman, and George Fitzmaurice)</center>\n",
    "![84](cs2.png)"
   ]
  },
  {
   "cell_type": "markdown",
   "metadata": {
    "slideshow": {
     "slide_type": "slide"
    }
   },
   "source": [
    "<center>(Justin Matejka, Michael Glueck, Tovi Grossman, and George Fitzmaurice)</center>\n",
    "![84](cs3.png)"
   ]
  },
  {
   "cell_type": "markdown",
   "metadata": {
    "slideshow": {
     "slide_type": "slide"
    }
   },
   "source": [
    "## <center>Dataset Structure</center>\n",
    "\n",
    "- `rating` - Value entered on the VAS, between 0 and 100.\n",
    "- `expected_rating` - The \"correct\" response for this trial, between 0 and 100.\n",
    "- `reset_side` - Which side the start button appeared on before this trial (left or right)\n",
    "- `study_rev` - the long name for the study condition of this trial.\n",
    "- `label` - a short description for the condition of this trial.\n",
    "- `slider_file` - the graphic used for the slider in this trial.\n",
    "- `thumb_file` - the graphic used for the slider thumb in this trial.\n",
    "- `user_number` - unique identifier for each participant.\n",
    "- `time_taken` - length of time to complete the trial, in ms.\n",
    "- `trail_num` - trail number for this study session, for this participant."
   ]
  },
  {
   "cell_type": "code",
   "execution_count": 3,
   "metadata": {
    "collapsed": true,
    "slideshow": {
     "slide_type": "skip"
    }
   },
   "outputs": [],
   "source": [
    "df <- read.table(file = 'SliderBias-PctStudy.tsv', sep = '\\t', header = TRUE)"
   ]
  },
  {
   "cell_type": "code",
   "execution_count": 12,
   "metadata": {
    "slideshow": {
     "slide_type": "slide"
    }
   },
   "outputs": [
    {
     "data": {
      "text/html": [
       "<table>\n",
       "<thead><tr><th scope=col>rating</th><th scope=col>expected_rating</th><th scope=col>reset_side</th><th scope=col>study_rev</th><th scope=col>label</th><th scope=col>slider_file</th><th scope=col>thumb_file</th><th scope=col>user_number</th><th scope=col>time_taken</th><th scope=col>trial_num</th></tr></thead>\n",
       "<tbody>\n",
       "\t<tr><td>64.66667                </td><td>65                      </td><td>right                   </td><td>squares-0.2-cond-30~0pct</td><td>3 Ticks                 </td><td>pct_05.png              </td><td>asset_22.png            </td><td>3634                    </td><td>3169                    </td><td>0                       </td></tr>\n",
       "\t<tr><td>97.33333                </td><td>98                      </td><td>left                    </td><td>squares-0.2-cond-30~0pct</td><td>3 Ticks                 </td><td>pct_05.png              </td><td>asset_22.png            </td><td>3634                    </td><td>1555                    </td><td>1                       </td></tr>\n",
       "\t<tr><td>25.66667                </td><td>35                      </td><td>right                   </td><td>squares-0.2-cond-30~0pct</td><td>3 Ticks                 </td><td>pct_05.png              </td><td>asset_22.png            </td><td>3634                    </td><td>1522                    </td><td>2                       </td></tr>\n",
       "\t<tr><td>17.16667                </td><td>21                      </td><td>right                   </td><td>squares-0.2-cond-30~0pct</td><td>3 Ticks                 </td><td>pct_05.png              </td><td>asset_22.png            </td><td>3634                    </td><td>1263                    </td><td>3                       </td></tr>\n",
       "\t<tr><td>22.33333                </td><td>25                      </td><td>right                   </td><td>squares-0.2-cond-30~0pct</td><td>3 Ticks                 </td><td>pct_05.png              </td><td>asset_22.png            </td><td>3634                    </td><td>1437                    </td><td>4                       </td></tr>\n",
       "</tbody>\n",
       "</table>\n"
      ],
      "text/latex": [
       "\\begin{tabular}{r|llllllllll}\n",
       " rating & expected\\_rating & reset\\_side & study\\_rev & label & slider\\_file & thumb\\_file & user\\_number & time\\_taken & trial\\_num\\\\\n",
       "\\hline\n",
       "\t 64.66667                                  & 65                                        & right                                     & squares-0.2-cond-30\\textasciitilde{}0pct & 3 Ticks                                   & pct\\_05.png                              & asset\\_22.png                            & 3634                                      & 3169                                      & 0                                        \\\\\n",
       "\t 97.33333                                  & 98                                        & left                                      & squares-0.2-cond-30\\textasciitilde{}0pct & 3 Ticks                                   & pct\\_05.png                              & asset\\_22.png                            & 3634                                      & 1555                                      & 1                                        \\\\\n",
       "\t 25.66667                                  & 35                                        & right                                     & squares-0.2-cond-30\\textasciitilde{}0pct & 3 Ticks                                   & pct\\_05.png                              & asset\\_22.png                            & 3634                                      & 1522                                      & 2                                        \\\\\n",
       "\t 17.16667                                  & 21                                        & right                                     & squares-0.2-cond-30\\textasciitilde{}0pct & 3 Ticks                                   & pct\\_05.png                              & asset\\_22.png                            & 3634                                      & 1263                                      & 3                                        \\\\\n",
       "\t 22.33333                                  & 25                                        & right                                     & squares-0.2-cond-30\\textasciitilde{}0pct & 3 Ticks                                   & pct\\_05.png                              & asset\\_22.png                            & 3634                                      & 1437                                      & 4                                        \\\\\n",
       "\\end{tabular}\n"
      ],
      "text/markdown": [
       "\n",
       "rating | expected_rating | reset_side | study_rev | label | slider_file | thumb_file | user_number | time_taken | trial_num | \n",
       "|---|---|---|---|---|\n",
       "| 64.66667                 | 65                       | right                    | squares-0.2-cond-30~0pct | 3 Ticks                  | pct_05.png               | asset_22.png             | 3634                     | 3169                     | 0                        | \n",
       "| 97.33333                 | 98                       | left                     | squares-0.2-cond-30~0pct | 3 Ticks                  | pct_05.png               | asset_22.png             | 3634                     | 1555                     | 1                        | \n",
       "| 25.66667                 | 35                       | right                    | squares-0.2-cond-30~0pct | 3 Ticks                  | pct_05.png               | asset_22.png             | 3634                     | 1522                     | 2                        | \n",
       "| 17.16667                 | 21                       | right                    | squares-0.2-cond-30~0pct | 3 Ticks                  | pct_05.png               | asset_22.png             | 3634                     | 1263                     | 3                        | \n",
       "| 22.33333                 | 25                       | right                    | squares-0.2-cond-30~0pct | 3 Ticks                  | pct_05.png               | asset_22.png             | 3634                     | 1437                     | 4                        | \n",
       "\n",
       "\n"
      ],
      "text/plain": [
       "  rating   expected_rating reset_side study_rev                label  \n",
       "1 64.66667 65              right      squares-0.2-cond-30~0pct 3 Ticks\n",
       "2 97.33333 98              left       squares-0.2-cond-30~0pct 3 Ticks\n",
       "3 25.66667 35              right      squares-0.2-cond-30~0pct 3 Ticks\n",
       "4 17.16667 21              right      squares-0.2-cond-30~0pct 3 Ticks\n",
       "5 22.33333 25              right      squares-0.2-cond-30~0pct 3 Ticks\n",
       "  slider_file thumb_file   user_number time_taken trial_num\n",
       "1 pct_05.png  asset_22.png 3634        3169       0        \n",
       "2 pct_05.png  asset_22.png 3634        1555       1        \n",
       "3 pct_05.png  asset_22.png 3634        1522       2        \n",
       "4 pct_05.png  asset_22.png 3634        1263       3        \n",
       "5 pct_05.png  asset_22.png 3634        1437       4        "
      ]
     },
     "metadata": {},
     "output_type": "display_data"
    }
   ],
   "source": [
    "df[0:5,]"
   ]
  },
  {
   "cell_type": "markdown",
   "metadata": {
    "slideshow": {
     "slide_type": "slide"
    }
   },
   "source": [
    "## <center>Questions/Suggestions/Cookies?</center>"
   ]
  }
 ],
 "metadata": {
  "celltoolbar": "Slideshow",
  "kernelspec": {
   "display_name": "R",
   "language": "R",
   "name": "ir"
  },
  "language_info": {
   "codemirror_mode": "r",
   "file_extension": ".r",
   "mimetype": "text/x-r-source",
   "name": "R",
   "pygments_lexer": "r",
   "version": "3.4.2"
  }
 },
 "nbformat": 4,
 "nbformat_minor": 2
}
